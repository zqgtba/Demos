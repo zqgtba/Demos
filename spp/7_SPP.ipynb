{
 "cells": [
  {
   "cell_type": "markdown",
   "metadata": {},
   "source": []
  },
  {
   "cell_type": "code",
   "execution_count": 29,
   "metadata": {},
   "outputs": [],
   "source": [
    "import pandas as pd\n",
    "import math"
   ]
  },
  {
   "cell_type": "code",
   "execution_count": 30,
   "metadata": {},
   "outputs": [
    {
     "name": "stdout",
     "output_type": "stream",
     "text": [
      "(4251, 252)\n",
      "(4251, 68)\n"
     ]
    }
   ],
   "source": [
    "# 读取第一个Excel文件\n",
    "normal = pd.read_excel('Normal.xlsx')\n",
    "\n",
    "# 读取第二个Excel文件\n",
    "faulty= pd.read_excel('Faulty.xlsx')\n",
    "\n",
    "print(normal.shape)\n",
    "print(faulty.shape)\n"
   ]
  },
  {
   "cell_type": "code",
   "execution_count": 31,
   "metadata": {},
   "outputs": [
    {
     "data": {
      "text/html": [
       "<div>\n",
       "<style scoped>\n",
       "    .dataframe tbody tr th:only-of-type {\n",
       "        vertical-align: middle;\n",
       "    }\n",
       "\n",
       "    .dataframe tbody tr th {\n",
       "        vertical-align: top;\n",
       "    }\n",
       "\n",
       "    .dataframe thead th {\n",
       "        text-align: right;\n",
       "    }\n",
       "</style>\n",
       "<table border=\"1\" class=\"dataframe\">\n",
       "  <thead>\n",
       "    <tr style=\"text-align: right;\">\n",
       "      <th></th>\n",
       "      <th>0</th>\n",
       "      <th>1</th>\n",
       "      <th>3</th>\n",
       "      <th>6</th>\n",
       "      <th>0.1</th>\n",
       "      <th>2</th>\n",
       "      <th>3.1</th>\n",
       "      <th>4</th>\n",
       "      <th>6.1</th>\n",
       "      <th>7</th>\n",
       "      <th>...</th>\n",
       "      <th>8.28</th>\n",
       "      <th>0.23</th>\n",
       "      <th>1.29</th>\n",
       "      <th>2.25</th>\n",
       "      <th>3.32</th>\n",
       "      <th>4.27</th>\n",
       "      <th>5.25</th>\n",
       "      <th>6.29</th>\n",
       "      <th>7.24</th>\n",
       "      <th>8.29</th>\n",
       "    </tr>\n",
       "  </thead>\n",
       "  <tbody>\n",
       "    <tr>\n",
       "      <th>0</th>\n",
       "      <td>0.0</td>\n",
       "      <td>0.0</td>\n",
       "      <td>0.0</td>\n",
       "      <td>0.0</td>\n",
       "      <td>0.0</td>\n",
       "      <td>0.0</td>\n",
       "      <td>0.0</td>\n",
       "      <td>0.0</td>\n",
       "      <td>0.0</td>\n",
       "      <td>0.0</td>\n",
       "      <td>...</td>\n",
       "      <td>0.0</td>\n",
       "      <td>0.0</td>\n",
       "      <td>0.0</td>\n",
       "      <td>0.0</td>\n",
       "      <td>0.0</td>\n",
       "      <td>0.0</td>\n",
       "      <td>0.0</td>\n",
       "      <td>0.0</td>\n",
       "      <td>1.0</td>\n",
       "      <td>1.0</td>\n",
       "    </tr>\n",
       "    <tr>\n",
       "      <th>1</th>\n",
       "      <td>0.0</td>\n",
       "      <td>0.0</td>\n",
       "      <td>0.0</td>\n",
       "      <td>0.0</td>\n",
       "      <td>0.0</td>\n",
       "      <td>0.0</td>\n",
       "      <td>0.0</td>\n",
       "      <td>0.0</td>\n",
       "      <td>0.0</td>\n",
       "      <td>0.0</td>\n",
       "      <td>...</td>\n",
       "      <td>1.0</td>\n",
       "      <td>1.0</td>\n",
       "      <td>1.0</td>\n",
       "      <td>0.0</td>\n",
       "      <td>1.0</td>\n",
       "      <td>0.0</td>\n",
       "      <td>0.0</td>\n",
       "      <td>1.0</td>\n",
       "      <td>1.0</td>\n",
       "      <td>1.0</td>\n",
       "    </tr>\n",
       "    <tr>\n",
       "      <th>2</th>\n",
       "      <td>0.0</td>\n",
       "      <td>0.0</td>\n",
       "      <td>0.0</td>\n",
       "      <td>0.0</td>\n",
       "      <td>0.0</td>\n",
       "      <td>0.0</td>\n",
       "      <td>0.0</td>\n",
       "      <td>1.0</td>\n",
       "      <td>0.0</td>\n",
       "      <td>0.0</td>\n",
       "      <td>...</td>\n",
       "      <td>1.0</td>\n",
       "      <td>1.0</td>\n",
       "      <td>1.0</td>\n",
       "      <td>0.0</td>\n",
       "      <td>1.0</td>\n",
       "      <td>0.0</td>\n",
       "      <td>0.0</td>\n",
       "      <td>1.0</td>\n",
       "      <td>1.0</td>\n",
       "      <td>1.0</td>\n",
       "    </tr>\n",
       "    <tr>\n",
       "      <th>3</th>\n",
       "      <td>0.0</td>\n",
       "      <td>0.0</td>\n",
       "      <td>0.0</td>\n",
       "      <td>0.0</td>\n",
       "      <td>0.0</td>\n",
       "      <td>0.0</td>\n",
       "      <td>0.0</td>\n",
       "      <td>1.0</td>\n",
       "      <td>0.0</td>\n",
       "      <td>0.0</td>\n",
       "      <td>...</td>\n",
       "      <td>1.0</td>\n",
       "      <td>1.0</td>\n",
       "      <td>1.0</td>\n",
       "      <td>0.0</td>\n",
       "      <td>1.0</td>\n",
       "      <td>0.0</td>\n",
       "      <td>0.0</td>\n",
       "      <td>1.0</td>\n",
       "      <td>1.0</td>\n",
       "      <td>0.0</td>\n",
       "    </tr>\n",
       "    <tr>\n",
       "      <th>4</th>\n",
       "      <td>0.0</td>\n",
       "      <td>0.0</td>\n",
       "      <td>0.0</td>\n",
       "      <td>0.0</td>\n",
       "      <td>0.0</td>\n",
       "      <td>0.0</td>\n",
       "      <td>0.0</td>\n",
       "      <td>0.0</td>\n",
       "      <td>0.0</td>\n",
       "      <td>0.0</td>\n",
       "      <td>...</td>\n",
       "      <td>0.0</td>\n",
       "      <td>0.0</td>\n",
       "      <td>0.0</td>\n",
       "      <td>0.0</td>\n",
       "      <td>1.0</td>\n",
       "      <td>0.0</td>\n",
       "      <td>1.0</td>\n",
       "      <td>1.0</td>\n",
       "      <td>0.0</td>\n",
       "      <td>0.0</td>\n",
       "    </tr>\n",
       "  </tbody>\n",
       "</table>\n",
       "<p>5 rows × 252 columns</p>\n",
       "</div>"
      ],
      "text/plain": [
       "     0    1    3    6  0.1    2  3.1    4  6.1    7  ...  8.28  0.23  1.29  \\\n",
       "0  0.0  0.0  0.0  0.0  0.0  0.0  0.0  0.0  0.0  0.0  ...   0.0   0.0   0.0   \n",
       "1  0.0  0.0  0.0  0.0  0.0  0.0  0.0  0.0  0.0  0.0  ...   1.0   1.0   1.0   \n",
       "2  0.0  0.0  0.0  0.0  0.0  0.0  0.0  1.0  0.0  0.0  ...   1.0   1.0   1.0   \n",
       "3  0.0  0.0  0.0  0.0  0.0  0.0  0.0  1.0  0.0  0.0  ...   1.0   1.0   1.0   \n",
       "4  0.0  0.0  0.0  0.0  0.0  0.0  0.0  0.0  0.0  0.0  ...   0.0   0.0   0.0   \n",
       "\n",
       "   2.25  3.32  4.27  5.25  6.29  7.24  8.29  \n",
       "0   0.0   0.0   0.0   0.0   0.0   1.0   1.0  \n",
       "1   0.0   1.0   0.0   0.0   1.0   1.0   1.0  \n",
       "2   0.0   1.0   0.0   0.0   1.0   1.0   1.0  \n",
       "3   0.0   1.0   0.0   0.0   1.0   1.0   0.0  \n",
       "4   0.0   1.0   0.0   1.0   1.0   0.0   0.0  \n",
       "\n",
       "[5 rows x 252 columns]"
      ]
     },
     "execution_count": 31,
     "metadata": {},
     "output_type": "execute_result"
    }
   ],
   "source": [
    "normal.head(5)"
   ]
  },
  {
   "cell_type": "code",
   "execution_count": 32,
   "metadata": {},
   "outputs": [
    {
     "name": "stdout",
     "output_type": "stream",
     "text": [
      "[2919, 1674, 1412, 1495, 2821, 2064, 729, 3312, 1426, 1180, 1906, 4036, 1375, 2889, 1904, 3036, 1560, 2198, 2288, 1996, 1447, 3075, 3618, 1951, 1891, 2990, 3509, 1352, 3261, 3216, 1672, 1824, 1758, 1549, 2934, 1525, 1147, 1278, 1948, 1666, 3282, 3324, 1409, 1337, 821, 1830, 1735, 3202, 1374, 1300, 1646, 2919, 1674, 1412, 1495, 2821, 2064, 729, 3312, 3412, 1426, 1180, 1906, 1375, 2889, 1904, 2036, 4251, 3394, 1560, 2288, 1996, 3999, 1447, 3075, 1951, 2990, 1886, 3509, 1352, 3216, 1672, 1824, 1758, 1549, 2820, 2934, 1525, 1278, 3850, 1666, 3324, 1409, 1337, 821, 2567, 1830, 3135, 1735, 2941, 1374, 1300, 1646, 2919, 1674, 3814, 1412, 3029, 2864, 1495, 1093, 2340, 2821, 1721, 2064, 729, 3312, 3412, 1426, 1180, 1380, 2590, 1906, 4036, 1375, 2889, 3081, 1390, 1271, 1904, 2036, 4251, 1561, 3036, 1560, 1561, 2198, 2288, 1996, 3999, 1447, 3075, 3618, 1951, 1891, 2990, 3537, 1886, 3509, 1352, 3261, 3216, 1252, 1672, 1824, 1758, 3515, 1549, 2820, 2934, 1525, 1147, 1278, 2521, 1948, 3850, 1666, 3282, 3324, 1409, 1337, 821, 2567, 1830, 3135, 1735, 2941, 3202, 1374, 1300, 1646, 2919, 1674, 3814, 1412, 3029, 2864, 1495, 1093, 2340, 2821, 1721, 2064, 729, 3312, 3412, 1426, 1180, 1380, 2590, 1906, 4036, 1375, 2889, 3081, 1390, 1271, 1904, 2036, 4251, 1561, 3036, 3394, 1560, 1561, 2198, 2288, 1996, 3999, 1447, 3075, 3618, 1951, 1891, 2990, 3537, 1886, 3509, 1352, 3261, 3216, 1535, 1252, 1672, 1824, 1758, 3515, 1549, 2820, 2934, 1525, 1147, 1278, 2521, 1948, 3850, 1666, 3282, 3324, 1409, 1337, 821]\n",
      "[1830, 3135, 2941, 3202, 1374, 3814, 3029, 2864, 1093, 2340, 1721, 3412, 1380, 2590, 3081, 1390, 1271, 2858, 2036, 4251, 1561, 3394, 1561, 3999, 3537, 1886, 1535, 1252, 3515, 2820, 2521, 3850, 2567, 3135, 2941, 3814, 3029, 2864, 1093, 2340, 1721, 1380, 2590, 4036, 3081, 1390, 1271, 2858, 1561, 3036, 1561, 2198, 3618, 1891, 3537, 3261, 1535, 1252, 3515, 1147, 2521, 1948, 3282, 3202, 2858, 3394, 1535, 2858]\n",
      "Normal数据集最小行数： 729\n",
      "Faulty数据集最小行数： 1093\n",
      "全部数据的最小行数： 729\n",
      "SPP层深： 9\n"
     ]
    }
   ],
   "source": [
    "# 获取每列的行数\n",
    "column_rows_n = [len(normal[column].dropna()) for column in normal.columns]\n",
    "print(column_rows_n)\n",
    "\n",
    "column_rows_f = [len(faulty[column].dropna()) for column in faulty.columns]\n",
    "print(column_rows_f)\n",
    "\n",
    "# 确定Normal数据集最小行数\n",
    "min_rows_n = min(column_rows_n)\n",
    "\n",
    "print(\"Normal数据集最小行数：\", min_rows_n)\n",
    "\n",
    "# 确定Faulty数据集最小行数\n",
    "min_rows_f = min(column_rows_f)\n",
    "\n",
    "print(\"Faulty数据集最小行数：\", min_rows_f)\n",
    "\n",
    "min_rows = min(min_rows_n, min_rows_f)\n",
    "print(\"全部数据的最小行数：\", min_rows)\n",
    "\n",
    "#我们认为可以使用最小行数作为SPP层深的划分\n",
    "k=math.floor(math.log2(min_rows))\n",
    "print(\"SPP层深：\",k)"
   ]
  },
  {
   "cell_type": "markdown",
   "metadata": {},
   "source": [
    "### 下面开始进行SPP神经网络的构建\n",
    "#### 暂时使用k=5进行SPP池化"
   ]
  },
  {
   "cell_type": "code",
   "execution_count": 33,
   "metadata": {},
   "outputs": [],
   "source": [
    "import torch\n",
    "\n",
    "def split(x):\n",
    "    assert x.dim()==2\n",
    "    num_rows = x.shape[0]\n",
    "    split_indices = torch.arange(1, num_rows, 2)\n",
    "    x_odd = x[split_indices, :]\n",
    "    x_even = x[split_indices-1, :]\n",
    "    return x_odd, x_even"
   ]
  },
  {
   "cell_type": "code",
   "execution_count": 34,
   "metadata": {},
   "outputs": [],
   "source": [
    "import torch\n",
    "import torch.nn as nn\n",
    "\n",
    "class ImprovedSPPLayer(nn.Module):\n",
    "    def __init__(self, num_levels):\n",
    "        super(ImprovedSPPLayer, self).__init__()\n",
    "        self.num_levels = num_levels  # 划分的总层数\n",
    "        self.num_spp_outputs = 2 ** self.num_levels - 1  # 最终SPP输出的总数量\n",
    "\n",
    "    def forward(self, x):\n",
    "        spp_outputs = []\n",
    "        spp_split = []\n",
    "\n",
    "        # 第0层：统计每列含1的个数\n",
    "        ones_count = torch.sum(torch.nan_to_num(x, nan=0), dim=0)\n",
    "        spp_outputs.append(ones_count.unsqueeze(dim=1))\n",
    "        spp_split.append(x)\n",
    "\n",
    "        # 第1到k-1层，对于行分奇偶，然后统计每列含1的个数\n",
    "        for level in range(1, self.num_levels):\n",
    "            for i in range(2**(level-1), 2**level):\n",
    "                x_odd, x_even = split(spp_split[i-1])\n",
    "                ones_count_odd = torch.sum(torch.nan_to_num(x_odd, nan=0), dim=0)\n",
    "                ones_count_even = torch.sum(torch.nan_to_num(x_even, nan=0), dim=0)\n",
    "                spp_outputs.append(ones_count_odd.unsqueeze(dim=1))\n",
    "                spp_outputs.append(ones_count_even.unsqueeze(dim=1))\n",
    "                spp_split.append(x_odd)\n",
    "                spp_split.append(x_even)\n",
    "        \n",
    "        # concat 2^k 个数据\n",
    "        spp_output = torch.cat(spp_outputs, dim=1)\n",
    "        return spp_output\n",
    "\n"
   ]
  },
  {
   "cell_type": "code",
   "execution_count": 38,
   "metadata": {},
   "outputs": [
    {
     "name": "stdout",
     "output_type": "stream",
     "text": [
      "torch.Size([252, 31])\n",
      "torch.Size([68, 31])\n"
     ]
    }
   ],
   "source": [
    "normal_tensor = torch.from_numpy(normal.values)\n",
    "faulty_tensor = torch.from_numpy(faulty.values)\n",
    "\n",
    "improved_spp = ImprovedSPPLayer(num_levels=5)  # 定义改进的SPP层，指定层数\n",
    "normal_output = improved_spp(normal_tensor)  # 改进的SPP池化后的输出\n",
    "print(normal_output.shape)  # 打印输出\n",
    "faulty_output = improved_spp(faulty_tensor)\n",
    "print(faulty_output.shape)"
   ]
  },
  {
   "cell_type": "code",
   "execution_count": 22,
   "metadata": {},
   "outputs": [
    {
     "data": {
      "text/plain": [
       "torch.Size([4251, 252])"
      ]
     },
     "execution_count": 22,
     "metadata": {},
     "output_type": "execute_result"
    }
   ],
   "source": [
    "normal_tensor.shape"
   ]
  },
  {
   "cell_type": "code",
   "execution_count": 14,
   "metadata": {},
   "outputs": [
    {
     "data": {
      "text/plain": [
       "252"
      ]
     },
     "execution_count": 14,
     "metadata": {},
     "output_type": "execute_result"
    }
   ],
   "source": [
    "normal.shape[1] "
   ]
  },
  {
   "cell_type": "code",
   "execution_count": null,
   "metadata": {},
   "outputs": [],
   "source": []
  }
 ],
 "metadata": {
  "kernelspec": {
   "display_name": "base",
   "language": "python",
   "name": "python3"
  },
  "language_info": {
   "codemirror_mode": {
    "name": "ipython",
    "version": 3
   },
   "file_extension": ".py",
   "mimetype": "text/x-python",
   "name": "python",
   "nbconvert_exporter": "python",
   "pygments_lexer": "ipython3",
   "version": "3.7.0"
  }
 },
 "nbformat": 4,
 "nbformat_minor": 2
}
